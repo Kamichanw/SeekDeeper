{
 "cells": [
  {
   "cell_type": "markdown",
   "metadata": {},
   "source": [
    "## 1. Import Modules and Data\n",
    "Although the details of pre-training and fine-tuning on ViT are not exactly the same, ViT is trained on ImageNet1k, ImageNet21k, and JFT datasets, which are too large to reproduce. Therefore, we just show how ViT fine-tined on CIFAR-10 dataset."
   ]
  },
  {
   "cell_type": "code",
   "execution_count": 1,
   "metadata": {},
   "outputs": [
    {
     "name": "stdout",
     "output_type": "stream",
     "text": [
      "Files already downloaded and verified\n",
      "Files already downloaded and verified\n"
     ]
    },
    {
     "data": {
      "text/plain": [
       "(7, 10724)"
      ]
     },
     "execution_count": 1,
     "metadata": {},
     "output_type": "execute_result"
    }
   ],
   "source": [
    "from data import load_data\n",
    "import config\n",
    "\n",
    "dataset = \"cifar10\"\n",
    "\n",
    "train_dataloader, valid_dataloader, test_dataloader = load_data(\n",
    "    dataset, splits=[\"train\", \"dev\", \"test\"]\n",
    ")\n",
    "\n",
    "base_lr = config.base_lr[dataset]\n",
    "# we will not use the following setting, see config.py\n",
    "# total_steps = config.total_steps[dataset]\n",
    "\n",
    "num_epochs = config.num_epochs\n",
    "total_steps = num_epochs * len(train_dataloader)\n",
    "num_epochs, total_steps"
   ]
  },
  {
   "cell_type": "markdown",
   "metadata": {},
   "source": [
    "## 2. Build Model\n",
    "As suggested in original paper [An Image is Worth 16x16 Words: Transformers for Image Recognition at Scale](https://arxiv.org/pdf/2010.11929), the classifer should be replaced with a zero-initialized $D\\times K$ feedforward layer, where $K$ is the number of downstream classes."
   ]
  },
  {
   "cell_type": "code",
   "execution_count": 2,
   "metadata": {},
   "outputs": [
    {
     "name": "stdout",
     "output_type": "stream",
     "text": [
      "Loading weights from pretrained ViT: vit-base-patch16-224\n"
     ]
    },
    {
     "name": "stderr",
     "output_type": "stream",
     "text": [
      "Some weights of ViTForImageClassification were not initialized from the model checkpoint at google/vit-base-patch16-224 and are newly initialized because the shapes did not match:\n",
      "- classifier.bias: found shape torch.Size([1000]) in the checkpoint and torch.Size([10]) in the model instantiated\n",
      "- classifier.weight: found shape torch.Size([1000, 768]) in the checkpoint and torch.Size([10, 768]) in the model instantiated\n",
      "You should probably TRAIN this model on a down-stream task to be able to use it for predictions and inference.\n"
     ]
    },
    {
     "data": {
      "text/plain": [
       "ViTForImageClassification(\n",
       "  (vit): ViTModel(\n",
       "    (embeddings): ViTEmbeddings(\n",
       "      (patch_embeddings): ViTPatchEmbeddings(\n",
       "        (projection): Conv2d(3, 768, kernel_size=(16, 16), stride=(16, 16))\n",
       "      )\n",
       "      (dropout): Dropout(p=0.1, inplace=False)\n",
       "    )\n",
       "    (encoder): ViTEncoder(\n",
       "      (layer): ModuleList(\n",
       "        (0-11): 12 x ViTLayer(\n",
       "          (attention): ModuleDict(\n",
       "            (attention): SelfAttention(\n",
       "              (query): Linear(in_features=768, out_features=768, bias=True)\n",
       "              (key): Linear(in_features=768, out_features=768, bias=True)\n",
       "              (value): Linear(in_features=768, out_features=768, bias=True)\n",
       "              (dropout): Dropout(p=0.1, inplace=False)\n",
       "            )\n",
       "            (output): ModuleDict(\n",
       "              (dense): Linear(in_features=768, out_features=768, bias=True)\n",
       "            )\n",
       "          )\n",
       "          (layernorm_before): LayerNorm((768,), eps=1e-05, elementwise_affine=True)\n",
       "          (output): ModuleDict(\n",
       "            (dense): Linear(in_features=3072, out_features=768, bias=True)\n",
       "          )\n",
       "          (intermediate): ModuleDict(\n",
       "            (dense): Linear(in_features=768, out_features=3072, bias=True)\n",
       "          )\n",
       "          (layernorm_after): LayerNorm((768,), eps=1e-05, elementwise_affine=True)\n",
       "          (dropout): Dropout(p=0.1, inplace=False)\n",
       "        )\n",
       "      )\n",
       "    )\n",
       "    (layernorm): LayerNorm((768,), eps=1e-05, elementwise_affine=True)\n",
       "  )\n",
       "  (classifier): Linear(in_features=768, out_features=10, bias=False)\n",
       ")"
      ]
     },
     "execution_count": 2,
     "metadata": {},
     "output_type": "execute_result"
    }
   ],
   "source": [
    "import torch\n",
    "import torch.nn as nn\n",
    "from modules import ViTForImageClassification\n",
    "\n",
    "device = torch.device(\"cuda\")\n",
    "model = ViTForImageClassification.from_pretrained(\"google/vit-base-patch16-224\")\n",
    "model.classifier = nn.Linear(model.classifier.in_features, 10, bias=False)\n",
    "nn.init.zeros_(model.classifier.weight)\n",
    "model.to(device)"
   ]
  },
  {
   "cell_type": "markdown",
   "metadata": {},
   "source": [
    "## 3. Train Model\n",
    "For fine-tuning, ViT uses SGD with a momentum of 0.9. Besides, it runs a small grid search over learning rates in ${0.001, 0.003, 0.01, 0.03}$. To do so, ViT uses small sub-splits from the training set (2% for CIFAR) as development set and train on the remaining data. For final results, entire training set is used and evaluate on the testdata. \n",
    "\n",
    "All models are fine-tuned with cosine learning rate decay, a batch size of 512, no weight decay, and grad clipping at global norm 1. "
   ]
  },
  {
   "cell_type": "code",
   "execution_count": 3,
   "metadata": {},
   "outputs": [],
   "source": [
    "import torch.optim as optim\n",
    "import config\n",
    "from sklearn.metrics import accuracy_score\n",
    "from tqdm.notebook import tqdm\n",
    "\n",
    "criterion = nn.CrossEntropyLoss()\n",
    "initial_sd = {k: v.cpu() for k, v in model.state_dict().items()}\n",
    "\n",
    "\n",
    "def evaluate(model, dataloader):\n",
    "    model.eval()\n",
    "    all_targets = []\n",
    "    all_predictions = []\n",
    "    with torch.no_grad():\n",
    "        for inputs, targets in tqdm(dataloader, desc=\"Evaluating...\"):\n",
    "            inputs, targets = inputs.to(device), targets.to(device)\n",
    "            outputs = model(inputs)\n",
    "            _, predicted = torch.max(outputs, 1)\n",
    "            all_targets.extend(targets.cpu().numpy())\n",
    "            all_predictions.extend(predicted.cpu().numpy())\n",
    "\n",
    "    accuracy = accuracy_score(all_targets, all_predictions)\n",
    "    return accuracy\n",
    "\n",
    "\n",
    "def train(model, lr, total_steps, optimizer, scheduler):\n",
    "    model.train()\n",
    "    current_step = 0\n",
    "    criterion = nn.CrossEntropyLoss()\n",
    "    pbar = tqdm(total=total_steps, desc=f\"Training for lr={lr}\")\n",
    "    while current_step < total_steps:\n",
    "        for batch_idx, (inputs, targets) in enumerate(train_dataloader):\n",
    "            if current_step > total_steps:\n",
    "                break\n",
    "\n",
    "            inputs, targets = inputs.to(device), targets.to(device)\n",
    "            outputs = model(inputs)\n",
    "            loss = criterion(outputs, targets)\n",
    "            loss = loss / config.accumulate_grad_batches\n",
    "            loss.backward()\n",
    "\n",
    "            if (\n",
    "                batch_idx + 1\n",
    "            ) % config.accumulate_grad_batches == 0 or batch_idx == total_steps:\n",
    "                torch.nn.utils.clip_grad_norm_(model.parameters(), max_norm=1)\n",
    "                optimizer.step()\n",
    "                optimizer.zero_grad()\n",
    "                scheduler.step()\n",
    "\n",
    "            current_step += 1\n",
    "            pbar.update(1)\n",
    "\n",
    "    pbar.close()\n",
    "\n",
    "\n",
    "def configure_optimizer(lr, total_steps):\n",
    "    optimizer = optim.SGD(\n",
    "        model.parameters(),\n",
    "        lr=lr,\n",
    "        momentum=config.momentum,\n",
    "        weight_decay=config.weight_decay,\n",
    "    )\n",
    "    scheduler = optim.lr_scheduler.CosineAnnealingLR(optimizer, T_max=total_steps)\n",
    "    return optimizer, scheduler"
   ]
  },
  {
   "cell_type": "markdown",
   "metadata": {},
   "source": [
    "We will do a grid search among the learning rates suggested in the paper to find the best learning rate. To save time, we will only run a fraction of the steps. You can determine the number of training steps by adjusting the `search_ratio`."
   ]
  },
  {
   "cell_type": "code",
   "execution_count": 4,
   "metadata": {},
   "outputs": [
    {
     "data": {
      "application/vnd.jupyter.widget-view+json": {
       "model_id": "575c6845cb224401af135aa17cd4e9d7",
       "version_major": 2,
       "version_minor": 0
      },
      "text/plain": [
       "Training for lr=0.001:   0%|          | 0/536 [00:00<?, ?it/s]"
      ]
     },
     "metadata": {},
     "output_type": "display_data"
    },
    {
     "data": {
      "application/vnd.jupyter.widget-view+json": {
       "model_id": "c9fca04af9a54920bab5ab0f80e61518",
       "version_major": 2,
       "version_minor": 0
      },
      "text/plain": [
       "Evaluating...:   0%|          | 0/32 [00:00<?, ?it/s]"
      ]
     },
     "metadata": {},
     "output_type": "display_data"
    },
    {
     "name": "stdout",
     "output_type": "stream",
     "text": [
      "Learning rate: 0.001, Validation Accuracy: 0.8980\n"
     ]
    },
    {
     "data": {
      "application/vnd.jupyter.widget-view+json": {
       "model_id": "9eb4abb5e4a04f0b8b1dfc83b16efdb3",
       "version_major": 2,
       "version_minor": 0
      },
      "text/plain": [
       "Training for lr=0.003:   0%|          | 0/536 [00:00<?, ?it/s]"
      ]
     },
     "metadata": {},
     "output_type": "display_data"
    },
    {
     "data": {
      "application/vnd.jupyter.widget-view+json": {
       "model_id": "5b3017a0188c463ea3fbb4cfb5ec8970",
       "version_major": 2,
       "version_minor": 0
      },
      "text/plain": [
       "Evaluating...:   0%|          | 0/32 [00:00<?, ?it/s]"
      ]
     },
     "metadata": {},
     "output_type": "display_data"
    },
    {
     "name": "stdout",
     "output_type": "stream",
     "text": [
      "Learning rate: 0.003, Validation Accuracy: 0.9320\n"
     ]
    },
    {
     "data": {
      "application/vnd.jupyter.widget-view+json": {
       "model_id": "48597da8769b47bc9173f32a3198f4d7",
       "version_major": 2,
       "version_minor": 0
      },
      "text/plain": [
       "Training for lr=0.01:   0%|          | 0/536 [00:00<?, ?it/s]"
      ]
     },
     "metadata": {},
     "output_type": "display_data"
    },
    {
     "data": {
      "application/vnd.jupyter.widget-view+json": {
       "model_id": "495733af917148e4a770f202f076ca03",
       "version_major": 2,
       "version_minor": 0
      },
      "text/plain": [
       "Evaluating...:   0%|          | 0/32 [00:00<?, ?it/s]"
      ]
     },
     "metadata": {},
     "output_type": "display_data"
    },
    {
     "name": "stdout",
     "output_type": "stream",
     "text": [
      "Learning rate: 0.01, Validation Accuracy: 0.9510\n"
     ]
    },
    {
     "data": {
      "application/vnd.jupyter.widget-view+json": {
       "model_id": "3c1484ef5e2244b1a188413a4a3eadb8",
       "version_major": 2,
       "version_minor": 0
      },
      "text/plain": [
       "Training for lr=0.03:   0%|          | 0/536 [00:00<?, ?it/s]"
      ]
     },
     "metadata": {},
     "output_type": "display_data"
    },
    {
     "data": {
      "application/vnd.jupyter.widget-view+json": {
       "model_id": "766aaf8597184412b42cd8199f240c60",
       "version_major": 2,
       "version_minor": 0
      },
      "text/plain": [
       "Evaluating...:   0%|          | 0/32 [00:00<?, ?it/s]"
      ]
     },
     "metadata": {},
     "output_type": "display_data"
    },
    {
     "name": "stdout",
     "output_type": "stream",
     "text": [
      "Learning rate: 0.03, Validation Accuracy: 0.9620\n",
      "Best learning rate: 0.03\n"
     ]
    }
   ],
   "source": [
    "best_lr = 0\n",
    "best_acc = 0\n",
    "\n",
    "search_ratio = 0.05\n",
    "search_steps = int(total_steps * search_ratio)\n",
    "\n",
    "for lr in base_lr:\n",
    "    model.load_state_dict({k: v.to(device) for k, v in initial_sd.items()})\n",
    "    train(model, lr, search_steps, *configure_optimizer(lr, search_steps))\n",
    "    acc = evaluate(model, valid_dataloader)\n",
    "    print(f\"Learning rate: {lr}, Validation Accuracy: {acc:.4f}\")\n",
    "\n",
    "    if acc > best_acc:\n",
    "        best_acc = acc\n",
    "        best_lr = lr\n",
    "\n",
    "print(f\"Best learning rate: {best_lr}\")"
   ]
  },
  {
   "cell_type": "markdown",
   "metadata": {},
   "source": [
    "It seems that 0.03 is the most suitable lr. Now, we can train on full training set."
   ]
  },
  {
   "cell_type": "code",
   "execution_count": null,
   "metadata": {},
   "outputs": [],
   "source": [
    "from torch.utils.data import ConcatDataset, DataLoader\n",
    "\n",
    "best_lr = 0.03\n",
    "train_dataloader = DataLoader(\n",
    "    ConcatDataset([train_dataloader.dataset, valid_dataloader.dataset]),\n",
    "    batch_size=config.batch_size,\n",
    "    shuffle=True,\n",
    ")\n",
    "\n",
    "model.load_state_dict({k: v.to(device) for k, v in initial_sd.items()})\n",
    "train(model, best_lr, total_steps, *configure_optimizer(best_lr, total_steps))\n",
    "evaluate(model, test_dataloader)"
   ]
  }
 ],
 "metadata": {
  "kernelspec": {
   "display_name": "base",
   "language": "python",
   "name": "python3"
  },
  "language_info": {
   "codemirror_mode": {
    "name": "ipython",
    "version": 3
   },
   "file_extension": ".py",
   "mimetype": "text/x-python",
   "name": "python",
   "nbconvert_exporter": "python",
   "pygments_lexer": "ipython3",
   "version": "3.12.2"
  }
 },
 "nbformat": 4,
 "nbformat_minor": 2
}
