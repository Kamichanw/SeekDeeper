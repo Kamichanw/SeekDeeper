{
 "cells": [
  {
   "cell_type": "markdown",
   "metadata": {},
   "source": [
    "## 1. Import Modules and Data\n",
    "Load tokenizer from huggingface."
   ]
  },
  {
   "cell_type": "code",
   "metadata": {
    "ExecuteTime": {
     "end_time": "2025-02-22T15:49:12.622840Z",
     "start_time": "2025-02-22T15:49:02.504481Z"
    }
   },
   "source": [
    "from transformers import AutoTokenizer\n",
    "import torch\n",
    "import config \n",
    "tokenizer = AutoTokenizer.from_pretrained(config.pretrained_path)\n",
    "\n",
    "device = torch.device(\"cuda\" if torch.cuda.is_available() else \"cpu\")\n",
    "print(\"load tokenizer\")"
   ],
   "outputs": [
    {
     "name": "stdout",
     "output_type": "stream",
     "text": [
      "load tokenizer\n"
     ]
    }
   ],
   "execution_count": 2
  },
  {
   "cell_type": "markdown",
   "metadata": {},
   "source": [
    "## 2. Load Trained Model"
   ]
  },
  {
   "cell_type": "code",
   "metadata": {
    "ExecuteTime": {
     "end_time": "2025-02-22T15:32:52.966694Z",
     "start_time": "2025-02-22T15:32:26.841318Z"
    }
   },
   "source": [
    "import torch\n",
    "from modules.bert import BERTTextClassifier\n",
    "import config \n",
    "\n",
    "bert_clf = BERTTextClassifier.from_pretrained(\n",
    "    config.pretrained_path, \n",
    "    num_frozen_layers=12,\n",
    ")\n",
    "\n",
    "bert_clf.load_state_dict(torch.load(config.checkpoint_dir / \"bert_clf_3.pth\")[\"model\"])\n",
    "bert_clf.to(device)\n",
    "print(\"load done!\")"
   ],
   "outputs": [
    {
     "name": "stdout",
     "output_type": "stream",
     "text": [
      "Number of trainable parameters: 24.43M\n",
      "load done!\n"
     ]
    }
   ],
   "execution_count": 2
  },
  {
   "cell_type": "markdown",
   "metadata": {},
   "source": [
    "## 3. Inference\n",
    "Here I consider text classification task with simple example as below, where '0' represents negative and '1' represents positive."
   ]
  },
  {
   "cell_type": "code",
   "metadata": {
    "ExecuteTime": {
     "end_time": "2025-02-22T15:33:27.770856Z",
     "start_time": "2025-02-22T15:33:27.043893Z"
    }
   },
   "source": [
    "text = \"I was beaten by you!\"\n",
    "\n",
    "input_ids = torch.tensor(tokenizer.encode(text)).unsqueeze(0).to(device)\n",
    "\n",
    "predicted_class = bert_clf.text_clf(input_ids)\n",
    "\n",
    "print(f\"Predicted class index: {predicted_class.item()}\")"
   ],
   "outputs": [
    {
     "name": "stdout",
     "output_type": "stream",
     "text": [
      "Predicted class index: 0\n"
     ]
    }
   ],
   "execution_count": 3
  },
  {
   "cell_type": "code",
   "metadata": {
    "ExecuteTime": {
     "end_time": "2025-02-22T15:33:28.882570Z",
     "start_time": "2025-02-22T15:33:28.866308Z"
    }
   },
   "source": [
    "text = \"I love the LLM world!\"\n",
    "\n",
    "input_ids = torch.tensor(tokenizer.encode(text)).unsqueeze(0).to(device)\n",
    "\n",
    "predicted_class = bert_clf.text_clf(input_ids)\n",
    "\n",
    "print(f\"Predicted class index: {predicted_class.item()}\")"
   ],
   "outputs": [
    {
     "name": "stdout",
     "output_type": "stream",
     "text": [
      "Predicted class index: 1\n"
     ]
    }
   ],
   "execution_count": 4
  },
  {
   "cell_type": "code",
   "metadata": {
    "ExecuteTime": {
     "end_time": "2025-02-22T15:33:31.235345Z",
     "start_time": "2025-02-22T15:33:31.206977Z"
    }
   },
   "source": [
    "text = \"Successful test!\"\n",
    "\n",
    "input_ids = torch.tensor(tokenizer.encode(text)).unsqueeze(0).to(device)\n",
    "\n",
    "predicted_class = bert_clf.text_clf(input_ids)\n",
    "\n",
    "print(f\"Predicted class index: {predicted_class.item()}\")"
   ],
   "outputs": [
    {
     "name": "stdout",
     "output_type": "stream",
     "text": [
      "Predicted class index: 1\n"
     ]
    }
   ],
   "execution_count": 5
  },
  {
   "metadata": {
    "ExecuteTime": {
     "end_time": "2025-02-22T15:33:50.702231Z",
     "start_time": "2025-02-22T15:33:50.653355Z"
    }
   },
   "cell_type": "code",
   "source": [
    "text = \"HA HA HA!\"\n",
    "\n",
    "input_ids = torch.tensor(tokenizer.encode(text)).unsqueeze(0).to(device)\n",
    "\n",
    "predicted_class = bert_clf.text_clf(input_ids)\n",
    "\n",
    "print(f\"Predicted class index: {predicted_class.item()}\")"
   ],
   "outputs": [
    {
     "name": "stdout",
     "output_type": "stream",
     "text": [
      "Predicted class index: 1\n"
     ]
    }
   ],
   "execution_count": 6
  }
 ],
 "metadata": {
  "kernelspec": {
   "display_name": "icl",
   "language": "python",
   "name": "python3"
  },
  "language_info": {
   "codemirror_mode": {
    "name": "ipython",
    "version": 3
   },
   "file_extension": ".py",
   "mimetype": "text/x-python",
   "name": "python",
   "nbconvert_exporter": "python",
   "pygments_lexer": "ipython3",
   "version": "3.11.11"
  }
 },
 "nbformat": 4,
 "nbformat_minor": 4
}
