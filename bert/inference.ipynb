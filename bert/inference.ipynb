{
 "cells": [
  {
   "cell_type": "markdown",
   "metadata": {},
   "source": [
    "## 1. Import Modules and Data"
   ]
  },
  {
   "cell_type": "code",
   "execution_count": null,
   "metadata": {
    "ExecuteTime": {
     "end_time": "2025-02-22T15:49:12.622840Z",
     "start_time": "2025-02-22T15:49:02.504481Z"
    }
   },
   "outputs": [],
   "source": [
    "from data import load_data\n",
    "\n",
    "tokenizer, *_ = load_data(\"sst2\")"
   ]
  },
  {
   "cell_type": "markdown",
   "metadata": {},
   "source": [
    "## 2. Load Trained Model\n",
    "\n",
    "Load our fine-tuned checkpoint."
   ]
  },
  {
   "cell_type": "code",
   "execution_count": null,
   "metadata": {
    "ExecuteTime": {
     "end_time": "2025-02-22T15:32:52.966694Z",
     "start_time": "2025-02-22T15:32:26.841318Z"
    }
   },
   "outputs": [],
   "source": [
    "import torch\n",
    "\n",
    "import config\n",
    "from modules.bert import BertForSequenceClassification\n",
    "\n",
    "device = torch.device(\"cuda\")\n",
    "bert_clf = BertForSequenceClassification.from_pretrained(config.pretrained_path)\n",
    "\n",
    "bert_clf.load_state_dict(\n",
    "    torch.load(config.checkpoint_dir / \"bert_clf_3.pth\")[\"model\"]\n",
    ")\n",
    "bert_clf = bert_clf.to(device).eval()"
   ]
  },
  {
   "cell_type": "markdown",
   "metadata": {},
   "source": [
    "## 3. Inference\n",
    "Here we consider text classification task with simple example as below, where '0' represents negative and '1' represents positive."
   ]
  },
  {
   "cell_type": "code",
   "execution_count": 14,
   "metadata": {
    "ExecuteTime": {
     "end_time": "2025-02-22T15:33:27.770856Z",
     "start_time": "2025-02-22T15:33:27.043893Z"
    }
   },
   "outputs": [
    {
     "name": "stdout",
     "output_type": "stream",
     "text": [
      "Predicted class index: 0\n"
     ]
    }
   ],
   "source": [
    "@torch.no_grad()\n",
    "def text_classification(text):\n",
    "    if isinstance(text, str):\n",
    "        text = [text]\n",
    "    inputs = tokenizer(\n",
    "        text,\n",
    "        padding=\"longest\",\n",
    "        truncation=True,\n",
    "        max_length=config.max_len,\n",
    "        return_tensors=\"pt\",\n",
    "    ).to(device)\n",
    "\n",
    "    logits = bert_clf(\n",
    "        input_ids=inputs.input_ids, attention_mask=inputs.attention_mask.bool()\n",
    "    )\n",
    "    predicted_class = torch.argmax(logits, dim=1)\n",
    "    predicted_class = predicted_class.cpu().numpy()\n",
    "    return predicted_class\n",
    "\n",
    "\n",
    "text = \"I was beaten by you!\"\n",
    "predicted_class = text_classification(text)\n",
    "print(f\"Predicted class index: {predicted_class.item()}\")"
   ]
  },
  {
   "cell_type": "code",
   "execution_count": 15,
   "metadata": {
    "ExecuteTime": {
     "end_time": "2025-02-22T15:33:28.882570Z",
     "start_time": "2025-02-22T15:33:28.866308Z"
    }
   },
   "outputs": [
    {
     "name": "stdout",
     "output_type": "stream",
     "text": [
      "Predicted class index: 1\n"
     ]
    }
   ],
   "source": [
    "text = \"I love the LLM world!\"\n",
    "predicted_class = text_classification(text)\n",
    "print(f\"Predicted class index: {predicted_class.item()}\")"
   ]
  }
 ],
 "metadata": {
  "kernelspec": {
   "display_name": "icl",
   "language": "python",
   "name": "python3"
  },
  "language_info": {
   "codemirror_mode": {
    "name": "ipython",
    "version": 3
   },
   "file_extension": ".py",
   "mimetype": "text/x-python",
   "name": "python",
   "nbconvert_exporter": "python",
   "pygments_lexer": "ipython3",
   "version": "3.11.11"
  }
 },
 "nbformat": 4,
 "nbformat_minor": 4
}
