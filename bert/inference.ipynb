{
 "cells": [
  {
   "cell_type": "markdown",
   "metadata": {},
   "source": [
    "## 1. Import Modules and Data\n",
    "load tokenizer from huggingface"
   ]
  },
  {
   "cell_type": "code",
   "execution_count": 1,
   "metadata": {},
   "outputs": [
    {
     "name": "stdout",
     "output_type": "stream",
     "text": [
      "load tokenizer\n"
     ]
    }
   ],
   "source": [
    "from transformers import AutoTokenizer\n",
    "import torch\n",
    "tokenizer = AutoTokenizer.from_pretrained(\"google-bert/bert-base-uncased\")\n",
    "\n",
    "device = torch.device(\"cuda\" if torch.cuda.is_available() else \"cpu\")\n",
    "print(\"load tokenizer\")"
   ]
  },
  {
   "cell_type": "markdown",
   "metadata": {},
   "source": [
    "## 2. Load Trained Model"
   ]
  },
  {
   "cell_type": "code",
   "execution_count": 2,
   "metadata": {},
   "outputs": [
    {
     "name": "stdout",
     "output_type": "stream",
     "text": [
      "Number of trainable parameters: 108.89M\n",
      "load done!\n"
     ]
    }
   ],
   "source": [
    "import torch\n",
    "from modules.bert import BERTTextClassifier\n",
    "import config \n",
    "\n",
    "bert_clf = BERTTextClassifier.from_pretrained(\n",
    "    config.pretrained_path, \n",
    "    num_frozen_layers=12,\n",
    ")\n",
    "\n",
    "bert_clf.load_state_dict(torch.load(config.checkpoint_dir / \"bert_clf_3.pth\")[\"model\"])\n",
    "bert_clf.to(device)\n",
    "print(\"load done!\")"
   ]
  },
  {
   "cell_type": "markdown",
   "metadata": {},
   "source": [
    "## 3. Inference\n",
    "Here I consider text classification task with simple example as below, where '0' represents negative and '1' represents positive."
   ]
  },
  {
   "cell_type": "code",
   "execution_count": 3,
   "metadata": {},
   "outputs": [
    {
     "name": "stdout",
     "output_type": "stream",
     "text": [
      "Predicted class index: 0\n"
     ]
    }
   ],
   "source": [
    "text = \"I was beaten by you!\"\n",
    "\n",
    "input_ids = torch.tensor(tokenizer.encode(text)).unsqueeze(0).to(device)\n",
    "\n",
    "predicted_class = bert_clf.text_clf(input_ids)\n",
    "\n",
    "print(f\"Predicted class index: {predicted_class.item()}\")"
   ]
  },
  {
   "cell_type": "code",
   "execution_count": 4,
   "metadata": {},
   "outputs": [
    {
     "name": "stdout",
     "output_type": "stream",
     "text": [
      "Predicted class index: 1\n"
     ]
    }
   ],
   "source": [
    "text = \"I love the LLM world!\"\n",
    "\n",
    "input_ids = torch.tensor(tokenizer.encode(text)).unsqueeze(0).to(device)\n",
    "\n",
    "predicted_class = bert_clf.text_clf(input_ids)\n",
    "\n",
    "print(f\"Predicted class index: {predicted_class.item()}\")"
   ]
  },
  {
   "cell_type": "code",
   "execution_count": 5,
   "metadata": {},
   "outputs": [
    {
     "name": "stdout",
     "output_type": "stream",
     "text": [
      "Predicted class index: 1\n"
     ]
    }
   ],
   "source": [
    "text = \"Successful test!\"\n",
    "\n",
    "input_ids = torch.tensor(tokenizer.encode(text)).unsqueeze(0).to(device)\n",
    "\n",
    "predicted_class = bert_clf.text_clf(input_ids)\n",
    "\n",
    "print(f\"Predicted class index: {predicted_class.item()}\")"
   ]
  }
 ],
 "metadata": {
  "kernelspec": {
   "display_name": "Python 3 (ipykernel)",
   "language": "python",
   "name": "python3"
  },
  "language_info": {
   "codemirror_mode": {
    "name": "ipython",
    "version": 3
   },
   "file_extension": ".py",
   "mimetype": "text/x-python",
   "name": "python",
   "nbconvert_exporter": "python",
   "pygments_lexer": "ipython3",
   "version": "3.8.10"
  }
 },
 "nbformat": 4,
 "nbformat_minor": 4
}
